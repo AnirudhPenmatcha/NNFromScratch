{
 "cells": [
  {
   "cell_type": "code",
   "execution_count": 1,
   "metadata": {},
   "outputs": [],
   "source": [
    "import numpy as np\n",
    "import h5py\n",
    "import matplotlib.pyplot as plt\n",
    "import copy\n",
    "\n",
    "\n",
    "np.random.seed(1)"
   ]
  },
  {
   "cell_type": "code",
   "execution_count": null,
   "metadata": {},
   "outputs": [],
   "source": [
    "\"\"\"\n",
    "To build the nerual network, several helper functions will be needed. The following will be \n",
    "the helper functions that need to be written:\n",
    "\n",
    "1. Initialize parameters for a 2 layer and an L layer NN\n",
    "2. Forward pass\n",
    "    - Complete the linear part of the layer's forward propogation (Z^[l])\n",
    "    - Then compute the activation function (relu/sigmoid)\n",
    "    - Combine the previous two steps into Linear -> Activation forward function\n",
    "    - Stack Linear -> Relu for L-1 times, and Linear -> Sigmoid once for the final layer \n",
    "    All of this combined will be an L_layer_model_forward_function\n",
    "3. Compute loss\n",
    "4. Perform back propagation\n",
    "    - Complete the linear part of the layer's backward propagation \n",
    "    - Then perform back propagation on the last part of the layer which is the activation function\n",
    "    - Combine the previous two steps into Linear -> Activation backward propagation function\n",
    "    - Stack Linear -> Relu back prop L-1 times and add one Linear -> Sigmoid back prop on top of that\n",
    "    All of this combined will be an L_layer_model_backward_function\n",
    "5. Update parameters \n",
    "\"\"\""
   ]
  },
  {
   "cell_type": "code",
   "execution_count": null,
   "metadata": {},
   "outputs": [],
   "source": [
    "# 1. Initialize parameters for a 2 layer and an L layer NN\n",
    "\n",
    "# Initialize for a 2 layer NN\n",
    "\n",
    "def initalize_parameters(n_x, n_h, n_y):\n",
    "    np.random_seed(1)\n",
    "    \n",
    "    W1 = np.random.randn(n_h, n_x) * 0.01 \n",
    "    b1 = np.zeros((n_h, 1)) \n",
    "    W2 = np.random.randn(n_y, n_h) * 0.01 \n",
    "    b2 = np.zeros((n_y, 1))\n",
    "    \n",
    "    \n",
    "    parameters = {\"W1\": W1,\n",
    "                  \"b1\": b1,\n",
    "                  \"W2\": W2,\n",
    "                  \"b2\": b2}\n",
    "    \n",
    "    return parameters\n",
    "    "
   ]
  }
 ],
 "metadata": {
  "kernelspec": {
   "display_name": "Python 3",
   "language": "python",
   "name": "python3"
  },
  "language_info": {
   "codemirror_mode": {
    "name": "ipython",
    "version": 3
   },
   "file_extension": ".py",
   "mimetype": "text/x-python",
   "name": "python",
   "nbconvert_exporter": "python",
   "pygments_lexer": "ipython3",
   "version": "3.10.12"
  }
 },
 "nbformat": 4,
 "nbformat_minor": 2
}
