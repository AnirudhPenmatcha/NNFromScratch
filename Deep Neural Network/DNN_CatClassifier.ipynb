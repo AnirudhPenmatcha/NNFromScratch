{
 "cells": [
  {
   "cell_type": "code",
   "execution_count": 5,
   "metadata": {},
   "outputs": [],
   "source": [
    "import numpy as np\n",
    "import h5py\n",
    "import matplotlib.pyplot as plt\n",
    "import copy\n",
    "from dnn_utils_v2 import sigmoid, sigmoid_backward, relu, relu_backward\n",
    "\n",
    "\n",
    "np.random.seed(1)"
   ]
  },
  {
   "cell_type": "code",
   "execution_count": null,
   "metadata": {},
   "outputs": [],
   "source": [
    "\"\"\"\n",
    "To build the nerual network, several helper functions will be needed. The following will be \n",
    "the helper functions that need to be written:\n",
    "\n",
    "1. Initialize parameters for a 2 layer and an L layer NN\n",
    "2. Forward pass\n",
    "    - Complete the linear part of the layer's forward propogation (Z^[l])\n",
    "    - Then compute the activation function (relu/sigmoid)\n",
    "    - Combine the previous two steps into Linear -> Activation forward function\n",
    "    - Stack Linear -> Relu for L-1 times, and Linear -> Sigmoid once for the final layer \n",
    "    All of this combined will be an L_layer_model_forward_function\n",
    "3. Compute loss\n",
    "4. Perform back propagation\n",
    "    - Complete the linear part of the layer's backward propagation \n",
    "    - Then perform back propagation on the last part of the layer which is the activation function\n",
    "    - Combine the previous two steps into Linear -> Activation backward propagation function\n",
    "    - Stack Linear -> Relu back prop L-1 times and add one Linear -> Sigmoid back prop on top of that\n",
    "    All of this combined will be an L_layer_model_backward_function\n",
    "5. Update parameters \n",
    "\"\"\""
   ]
  },
  {
   "cell_type": "code",
   "execution_count": null,
   "metadata": {},
   "outputs": [],
   "source": [
    "# 1. Initialize parameters for a 2 layer and an L layer NN\n",
    "\n",
    "# Initialize for a 2 layer NN\n",
    "\n",
    "def initalize_parameters(n_x, n_h, n_y):\n",
    "    np.random_seed(1)\n",
    "    \n",
    "    W1 = np.random.randn(n_h, n_x) * 0.01 \n",
    "    b1 = np.zeros((n_h, 1)) \n",
    "    W2 = np.random.randn(n_y, n_h) * 0.01 \n",
    "    b2 = np.zeros((n_y, 1))\n",
    "    \n",
    "    \n",
    "    parameters = {\"W1\": W1,\n",
    "                  \"b1\": b1,\n",
    "                  \"W2\": W2,\n",
    "                  \"b2\": b2}\n",
    "    \n",
    "    return parameters\n",
    "    "
   ]
  },
  {
   "cell_type": "code",
   "execution_count": 2,
   "metadata": {},
   "outputs": [],
   "source": [
    "# Initialize for a L layer NN \n",
    "\n",
    "def initialize_parameters_deep(layer_dims):\n",
    "    np.random.seed(3)\n",
    "    parameters = {}\n",
    "    L = len(layer_dims)\n",
    "    \n",
    "    for l in range(1, L):\n",
    "        parameters['W' + str(l)] = np.random.randn(layer_dims[l], layer_dims[l-1])\n",
    "        parameters['b' + str(l)] = np.zeros((layer_dims[l], 1))\n",
    "    \n",
    "    return parameters"
   ]
  },
  {
   "cell_type": "code",
   "execution_count": 3,
   "metadata": {},
   "outputs": [],
   "source": [
    "# Forward propagation module\n",
    "\n",
    "# Linear forward\n",
    "\n",
    "def linear_forward(A, W, b):\n",
    "    Z = np.dot(A, W) + b\n",
    "    \n",
    "    cache = (A, W, b) # This will be needed during back propagation\n",
    "    \n",
    "    return Z, cache"
   ]
  },
  {
   "cell_type": "code",
   "execution_count": null,
   "metadata": {},
   "outputs": [],
   "source": [
    "# Linear_activation_forward\n",
    "\n",
    "def linear_activation_forward(A_prev, W, b, activation):\n",
    "    \n",
    "    if activation == 'sigmoid':\n",
    "        Z, linear_cache = linear_forward(A_prev, W, b) # linear_cache = (A, W, b)\n",
    "        A, activation_cache = sigmoid(Z) # A = output of the activation, activation_cache = Z\n",
    "        \n",
    "    elif activation == 'relu':\n",
    "        Z, linear_cache = linear_forward(A_prev, W, b) # linear_cache = (A, W, b)\n",
    "        A, activation_cache = relu(Z) # A = output of the activation, activation_cache = Z\n",
    "        \n",
    "    cache = (linear_cache, activation_cache)\n",
    "    \n",
    "    return A, cache"
   ]
  },
  {
   "cell_type": "code",
   "execution_count": 7,
   "metadata": {},
   "outputs": [],
   "source": [
    "# L_model_forward\n",
    "\n",
    "def L_model_forward(X, parameters):\n",
    "    caches = []\n",
    "    A = X\n",
    "    L = len(parameters) // 2\n",
    "    \n",
    "    for l in range(1, L):\n",
    "        A_prev = A\n",
    "        A, cache = linear_activation_forward(A_prev, parameters['W'+str(l)], parameters['b'+str(l)], 'relu')\n",
    "        caches.append(cache)\n",
    "    \n",
    "    \n",
    "    AL, cache = linear_activation_forward(A, parameters['W'+str(L)], parameters['b'+str(L)], 'sigmoid')\n",
    "    caches.append(cache)\n",
    "        \n",
    "    return AL, caches"
   ]
  },
  {
   "cell_type": "code",
   "execution_count": null,
   "metadata": {},
   "outputs": [],
   "source": []
  }
 ],
 "metadata": {
  "kernelspec": {
   "display_name": "Python 3",
   "language": "python",
   "name": "python3"
  },
  "language_info": {
   "codemirror_mode": {
    "name": "ipython",
    "version": 3
   },
   "file_extension": ".py",
   "mimetype": "text/x-python",
   "name": "python",
   "nbconvert_exporter": "python",
   "pygments_lexer": "ipython3",
   "version": "3.10.12"
  }
 },
 "nbformat": 4,
 "nbformat_minor": 2
}
