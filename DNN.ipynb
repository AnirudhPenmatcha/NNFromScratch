{
 "cells": [
  {
   "cell_type": "markdown",
   "metadata": {},
   "source": [
    "For next project(DNN):\n",
    "Try regularization, optimization, batch, gradient checking, hyperparameter tuning (strategy),\n",
    "evaluation metrics, train/dev/test distribution, transfer learning, multi-task learning"
   ]
  },
  {
   "cell_type": "code",
   "execution_count": null,
   "metadata": {},
   "outputs": [],
   "source": []
  }
 ],
 "metadata": {
  "language_info": {
   "name": "python"
  }
 },
 "nbformat": 4,
 "nbformat_minor": 2
}
