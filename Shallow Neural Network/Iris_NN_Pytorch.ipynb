{
 "cells": [
  {
   "cell_type": "code",
   "execution_count": 230,
   "metadata": {},
   "outputs": [],
   "source": [
    "import torch\n",
    "import torch.nn as nn\n",
    "import torch.nn.functional as F\n",
    "from sklearn.model_selection import train_test_split\n",
    "\n",
    "from ucimlrepo import fetch_ucirepo \n",
    "import pandas as pd\n",
    "import numpy as np\n",
    "import matplotlib.pyplot as plt\n",
    "%matplotlib inline"
   ]
  },
  {
   "cell_type": "code",
   "execution_count": 231,
   "metadata": {},
   "outputs": [],
   "source": [
    "# fetch dataset \n",
    "iris = fetch_ucirepo(id=53) \n",
    "X = iris.data.features \n",
    "y = iris.data.targets "
   ]
  },
  {
   "cell_type": "code",
   "execution_count": 232,
   "metadata": {},
   "outputs": [
    {
     "data": {
      "text/html": [
       "<div>\n",
       "<style scoped>\n",
       "    .dataframe tbody tr th:only-of-type {\n",
       "        vertical-align: middle;\n",
       "    }\n",
       "\n",
       "    .dataframe tbody tr th {\n",
       "        vertical-align: top;\n",
       "    }\n",
       "\n",
       "    .dataframe thead th {\n",
       "        text-align: right;\n",
       "    }\n",
       "</style>\n",
       "<table border=\"1\" class=\"dataframe\">\n",
       "  <thead>\n",
       "    <tr style=\"text-align: right;\">\n",
       "      <th></th>\n",
       "      <th>class</th>\n",
       "    </tr>\n",
       "  </thead>\n",
       "  <tbody>\n",
       "    <tr>\n",
       "      <th>0</th>\n",
       "      <td>Iris-setosa</td>\n",
       "    </tr>\n",
       "    <tr>\n",
       "      <th>1</th>\n",
       "      <td>Iris-setosa</td>\n",
       "    </tr>\n",
       "    <tr>\n",
       "      <th>2</th>\n",
       "      <td>Iris-setosa</td>\n",
       "    </tr>\n",
       "    <tr>\n",
       "      <th>3</th>\n",
       "      <td>Iris-setosa</td>\n",
       "    </tr>\n",
       "    <tr>\n",
       "      <th>4</th>\n",
       "      <td>Iris-setosa</td>\n",
       "    </tr>\n",
       "    <tr>\n",
       "      <th>...</th>\n",
       "      <td>...</td>\n",
       "    </tr>\n",
       "    <tr>\n",
       "      <th>145</th>\n",
       "      <td>Iris-virginica</td>\n",
       "    </tr>\n",
       "    <tr>\n",
       "      <th>146</th>\n",
       "      <td>Iris-virginica</td>\n",
       "    </tr>\n",
       "    <tr>\n",
       "      <th>147</th>\n",
       "      <td>Iris-virginica</td>\n",
       "    </tr>\n",
       "    <tr>\n",
       "      <th>148</th>\n",
       "      <td>Iris-virginica</td>\n",
       "    </tr>\n",
       "    <tr>\n",
       "      <th>149</th>\n",
       "      <td>Iris-virginica</td>\n",
       "    </tr>\n",
       "  </tbody>\n",
       "</table>\n",
       "<p>150 rows × 1 columns</p>\n",
       "</div>"
      ],
      "text/plain": [
       "              class\n",
       "0       Iris-setosa\n",
       "1       Iris-setosa\n",
       "2       Iris-setosa\n",
       "3       Iris-setosa\n",
       "4       Iris-setosa\n",
       "..              ...\n",
       "145  Iris-virginica\n",
       "146  Iris-virginica\n",
       "147  Iris-virginica\n",
       "148  Iris-virginica\n",
       "149  Iris-virginica\n",
       "\n",
       "[150 rows x 1 columns]"
      ]
     },
     "execution_count": 232,
     "metadata": {},
     "output_type": "execute_result"
    }
   ],
   "source": [
    "y"
   ]
  },
  {
   "cell_type": "code",
   "execution_count": 233,
   "metadata": {},
   "outputs": [
    {
     "data": {
      "text/html": [
       "<div>\n",
       "<style scoped>\n",
       "    .dataframe tbody tr th:only-of-type {\n",
       "        vertical-align: middle;\n",
       "    }\n",
       "\n",
       "    .dataframe tbody tr th {\n",
       "        vertical-align: top;\n",
       "    }\n",
       "\n",
       "    .dataframe thead th {\n",
       "        text-align: right;\n",
       "    }\n",
       "</style>\n",
       "<table border=\"1\" class=\"dataframe\">\n",
       "  <thead>\n",
       "    <tr style=\"text-align: right;\">\n",
       "      <th></th>\n",
       "      <th>class</th>\n",
       "    </tr>\n",
       "  </thead>\n",
       "  <tbody>\n",
       "    <tr>\n",
       "      <th>0</th>\n",
       "      <td>0</td>\n",
       "    </tr>\n",
       "    <tr>\n",
       "      <th>1</th>\n",
       "      <td>0</td>\n",
       "    </tr>\n",
       "    <tr>\n",
       "      <th>2</th>\n",
       "      <td>0</td>\n",
       "    </tr>\n",
       "    <tr>\n",
       "      <th>3</th>\n",
       "      <td>0</td>\n",
       "    </tr>\n",
       "    <tr>\n",
       "      <th>4</th>\n",
       "      <td>0</td>\n",
       "    </tr>\n",
       "    <tr>\n",
       "      <th>...</th>\n",
       "      <td>...</td>\n",
       "    </tr>\n",
       "    <tr>\n",
       "      <th>145</th>\n",
       "      <td>2</td>\n",
       "    </tr>\n",
       "    <tr>\n",
       "      <th>146</th>\n",
       "      <td>2</td>\n",
       "    </tr>\n",
       "    <tr>\n",
       "      <th>147</th>\n",
       "      <td>2</td>\n",
       "    </tr>\n",
       "    <tr>\n",
       "      <th>148</th>\n",
       "      <td>2</td>\n",
       "    </tr>\n",
       "    <tr>\n",
       "      <th>149</th>\n",
       "      <td>2</td>\n",
       "    </tr>\n",
       "  </tbody>\n",
       "</table>\n",
       "<p>150 rows × 1 columns</p>\n",
       "</div>"
      ],
      "text/plain": [
       "     class\n",
       "0        0\n",
       "1        0\n",
       "2        0\n",
       "3        0\n",
       "4        0\n",
       "..     ...\n",
       "145      2\n",
       "146      2\n",
       "147      2\n",
       "148      2\n",
       "149      2\n",
       "\n",
       "[150 rows x 1 columns]"
      ]
     },
     "execution_count": 233,
     "metadata": {},
     "output_type": "execute_result"
    }
   ],
   "source": [
    "# Change target feature from string to int\n",
    "\n",
    "y = y.copy() # To make sure the changes are being done a new copy of the dataframe rather than doing chained assignments\n",
    "y.loc[y['class'] == 'Iris-setosa', 'class'] = 0\n",
    "y.loc[y['class'] == 'Iris-versicolor', 'class'] = 1\n",
    "y.loc[y['class'] == 'Iris-virginica', 'class'] = 2\n",
    "# Initially the column had words, meaning the dtype was object. Hence, why we need to explicitly convert the type to int\n",
    "y['class'] = y['class'].astype(int)\n",
    "y"
   ]
  },
  {
   "cell_type": "code",
   "execution_count": 234,
   "metadata": {},
   "outputs": [],
   "source": [
    "# Train test split\n",
    "\n",
    "X = np.array(X[['sepal length', 'sepal width', 'petal length', 'petal width']])\n",
    "y = np.array(y['class'])\n",
    "X_train, X_test, y_train, y_test = train_test_split(X, y, test_size=0.2, random_state=42)"
   ]
  },
  {
   "cell_type": "code",
   "execution_count": 235,
   "metadata": {},
   "outputs": [],
   "source": [
    "# Convert X features to float tensors\n",
    "X_train = torch.FloatTensor(X_train)\n",
    "X_test = torch.FloatTensor(X_test)"
   ]
  },
  {
   "cell_type": "code",
   "execution_count": 236,
   "metadata": {},
   "outputs": [],
   "source": [
    "# Create a Model class that inherits nn.Module\n",
    "\n",
    "# why is pytorch code in class based object oriented programming\n",
    "\n",
    "class Model(nn.Module):\n",
    "    # Input layer (4 features of the flower) --> \n",
    "    # Hidden layer1 (number of neurons) --> \n",
    "    # output (3 classes of iris flowers)\n",
    "    def __init__(self, in_features=4, h1=4, out_features=3):\n",
    "        super().__init__() # instantiate the nn.module\n",
    "        self.fc1 = nn.Linear(in_features, h1)\n",
    "        self.out = nn.Linear(h1, out_features)\n",
    "        \n",
    "    def forward(self, x):\n",
    "        x = F.relu(self.fc1(x))\n",
    "        x = self.out(x)\n",
    "        \n",
    "        return x"
   ]
  },
  {
   "cell_type": "code",
   "execution_count": 237,
   "metadata": {},
   "outputs": [],
   "source": [
    "# Pick a manual seed for randomization\n",
    "torch.manual_seed(41)\n",
    "# Create an instance of model\n",
    "model = Model()"
   ]
  },
  {
   "cell_type": "code",
   "execution_count": 238,
   "metadata": {},
   "outputs": [],
   "source": [
    "# Convert y labels to tensors long (for 64 bit integers)\n",
    "y_train = torch.LongTensor(y_train)\n",
    "y_test = torch.LongTensor(y_test)"
   ]
  },
  {
   "cell_type": "code",
   "execution_count": 239,
   "metadata": {},
   "outputs": [],
   "source": [
    "# Set the criterion of model to measure the error, how far off the predictions are from the data\n",
    "criterion = nn.CrossEntropyLoss()\n",
    "# Using SGD for full-batch gradient descent with entire dataset at once and defining the Learning rate\n",
    "optimizer = torch.optim.SGD(model.parameters(), lr=0.06)"
   ]
  },
  {
   "cell_type": "code",
   "execution_count": 240,
   "metadata": {},
   "outputs": [
    {
     "data": {
      "text/plain": [
       "<bound method Module.parameters of Model(\n",
       "  (fc1): Linear(in_features=4, out_features=4, bias=True)\n",
       "  (out): Linear(in_features=4, out_features=3, bias=True)\n",
       ")>"
      ]
     },
     "execution_count": 240,
     "metadata": {},
     "output_type": "execute_result"
    }
   ],
   "source": [
    "model.parameters"
   ]
  },
  {
   "cell_type": "code",
   "execution_count": 241,
   "metadata": {},
   "outputs": [
    {
     "name": "stdout",
     "output_type": "stream",
     "text": [
      "Epoch: 0 and loss: 1.1550945043563843\n",
      "Epoch: 10 and loss: 0.9746381044387817\n",
      "Epoch: 20 and loss: 0.8502460718154907\n",
      "Epoch: 30 and loss: 0.711383044719696\n",
      "Epoch: 40 and loss: 0.5942331552505493\n",
      "Epoch: 50 and loss: 0.5116456151008606\n",
      "Epoch: 60 and loss: 0.45558422803878784\n",
      "Epoch: 70 and loss: 0.4147414565086365\n",
      "Epoch: 80 and loss: 0.3819625675678253\n",
      "Epoch: 90 and loss: 0.35368186235427856\n"
     ]
    }
   ],
   "source": [
    "# Train our model\n",
    "\n",
    "epochs = 100\n",
    "losses = []\n",
    "for i in range(epochs):\n",
    "    # Forward pass\n",
    "    y_pred = model.forward(X_train) # Get predicted results\n",
    "    \n",
    "    # Measure the loss\n",
    "    loss = criterion(y_pred, y_train) \n",
    "    \n",
    "    # Keep track of the losses\n",
    "    losses.append(loss.detach().numpy()) # The loss output comes a tensor type. By using detach, it will be usable for plotting\n",
    "    \n",
    "    # Print every 10 epoch\n",
    "    if i % 10 == 0:\n",
    "        print(f'Epoch: {i} and loss: {loss}')\n",
    "        \n",
    "    # Backward pass\n",
    "    optimizer.zero_grad()\n",
    "    loss.backward()\n",
    "    optimizer.step()"
   ]
  },
  {
   "cell_type": "code",
   "execution_count": 242,
   "metadata": {},
   "outputs": [
    {
     "data": {
      "text/plain": [
       "Text(0.5, 0, 'epoch')"
      ]
     },
     "execution_count": 242,
     "metadata": {},
     "output_type": "execute_result"
    },
    {
     "data": {
      "image/png": "[encoded data removed]",
      "text/plain": [
       "<Figure size 640x480 with 1 Axes>"
      ]
     },
     "metadata": {},
     "output_type": "display_data"
    }
   ],
   "source": [
    "# Graph the results\n",
    "\n",
    "plt.plot(range(epochs), losses)\n",
    "plt.ylabel(\"loss/error\")\n",
    "plt.xlabel(\"epoch\")"
   ]
  },
  {
   "cell_type": "code",
   "execution_count": 6,
   "metadata": {},
   "outputs": [
    {
     "data": {
      "text/plain": [
       "\"\\nOne interesting observation that can be made here is that, although the neural network architecture, dataset are the same\\nas the hard coded version, PyTorch library's implementation is performing extra optimizations that are making it perform\\nbetter with lesser epochs and much smaller learning rate than the hard coded version.\\n\""
      ]
     },
     "execution_count": 6,
     "metadata": {},
     "output_type": "execute_result"
    }
   ],
   "source": [
    "'''\n",
    "One interesting observation that can be made here is that, although the neural network architecture, and dataset are the same\n",
    "as the hard coded version, PyTorch library's implementation is performing extra optimizations that are making it perform\n",
    "better with lesser epochs and much smaller learning rate than the hard coded version.\n",
    "'''"
   ]
  },
  {
   "cell_type": "code",
   "execution_count": 243,
   "metadata": {},
   "outputs": [],
   "source": [
    "# Evaluate the model on test data set (validate model on test set)\n",
    "with torch.no_grad(): # Basically turn off back propogation\n",
    "    y_eval = model.forward(X_test) \n",
    "    loss = criterion(y_eval, y_test)"
   ]
  },
  {
   "cell_type": "code",
   "execution_count": 244,
   "metadata": {},
   "outputs": [
    {
     "data": {
      "text/plain": [
       "tensor(0.3423)"
      ]
     },
     "execution_count": 244,
     "metadata": {},
     "output_type": "execute_result"
    }
   ],
   "source": [
    "loss"
   ]
  },
  {
   "cell_type": "code",
   "execution_count": 245,
   "metadata": {},
   "outputs": [
    {
     "name": "stdout",
     "output_type": "stream",
     "text": [
      "1.) tensor([-2.1377,  1.0790,  1.0134]) \t 1 \t 1\n",
      "2.) tensor([ 4.0611,  1.0075, -3.9980]) \t 0 \t 0\n",
      "3.) tensor([-5.1748,  1.4172,  3.2884]) \t 2 \t 2\n",
      "4.) tensor([-1.9061,  1.1005,  0.8118]) \t 1 \t 1\n",
      "5.) tensor([-1.9209,  1.1917,  0.7696]) \t 1 \t 1\n",
      "6.) tensor([ 3.8447,  0.9618, -3.7944]) \t 0 \t 0\n",
      "7.) tensor([-0.5084,  1.0355, -0.2891]) \t 1 \t 1\n",
      "8.) tensor([-2.5363,  1.3019,  1.2058]) \t 2 \t 1\n",
      "9.) tensor([-2.3265,  1.0982,  1.1560]) \t 1 \t 2\n",
      "10.) tensor([-1.0148,  1.0417,  0.1201]) \t 1 \t 1\n",
      "11.) tensor([-2.5996,  1.2232,  1.3042]) \t 2 \t 2\n",
      "12.) tensor([ 3.4218,  0.8362, -3.3749]) \t 0 \t 0\n",
      "13.) tensor([ 4.4329,  0.9620, -4.2741]) \t 0 \t 0\n",
      "14.) tensor([ 3.3941,  0.8529, -3.3622]) \t 0 \t 0\n",
      "15.) tensor([ 4.0013,  0.9284, -3.9022]) \t 0 \t 0\n",
      "16.) tensor([-1.7775,  1.1655,  0.6683]) \t 1 \t 1\n",
      "17.) tensor([-4.0791,  1.2277,  2.5078]) \t 2 \t 2\n",
      "18.) tensor([-1.2675,  0.9968,  0.3529]) \t 1 \t 1\n",
      "19.) tensor([-2.1040,  1.0366,  1.0112]) \t 1 \t 1\n",
      "20.) tensor([-3.9549,  1.2077,  2.4185]) \t 2 \t 2\n",
      "21.) tensor([ 3.1165,  0.8389, -3.1276]) \t 0 \t 0\n",
      "22.) tensor([-2.5936,  1.1435,  1.3468]) \t 2 \t 2\n",
      "23.) tensor([ 3.3940,  0.9070, -3.3944]) \t 0 \t 0\n",
      "24.) tensor([-3.9111,  1.1981,  2.3884]) \t 2 \t 2\n",
      "25.) tensor([-3.4493,  1.4250,  1.8769]) \t 2 \t 2\n",
      "26.) tensor([-2.9293,  1.2698,  1.5453]) \t 2 \t 2\n",
      "27.) tensor([-4.1647,  1.1952,  2.5969]) \t 2 \t 2\n",
      "28.) tensor([-3.9337,  1.2853,  2.3550]) \t 2 \t 2\n",
      "29.) tensor([ 3.3341,  0.8555, -3.3148]) \t 0 \t 0\n",
      "30.) tensor([ 3.1055,  0.8482, -3.1241]) \t 0 \t 0\n",
      "We got 28 correct!\n"
     ]
    }
   ],
   "source": [
    "correct = 0\n",
    "with torch.no_grad():\n",
    "    for i, data in enumerate(X_test):\n",
    "        y_val = model.forward(data)\n",
    "        \n",
    "        # Will tell us what type of flower the network thinks it is\n",
    "        print(f'{i+1}.) {str(y_val)} \\t {y_test[i]} \\t {y_val.argmax().item()}')\n",
    "        \n",
    "        # Correct or not \n",
    "        if y_val.argmax().item() == y_test[i]:\n",
    "            correct += 1\n",
    "\n",
    "print(f'We got {correct} correct!')"
   ]
  },
  {
   "cell_type": "code",
   "execution_count": 246,
   "metadata": {},
   "outputs": [
    {
     "name": "stdout",
     "output_type": "stream",
     "text": [
      "tensor([ 3.4648,  1.0848, -3.5579])\n"
     ]
    }
   ],
   "source": [
    "# Trying custom data on the NN\n",
    "new_iris = torch.tensor([5.7, 4.1, 2.0, 1.0])\n",
    "\n",
    "with torch.no_grad():\n",
    "    print(model(new_iris))"
   ]
  },
  {
   "cell_type": "code",
   "execution_count": 247,
   "metadata": {},
   "outputs": [
    {
     "name": "stdout",
     "output_type": "stream",
     "text": [
      "tensor([-3.0830,  1.1147,  1.7630])\n"
     ]
    }
   ],
   "source": [
    "newer_iris = torch.tensor([5.9, 3.0, 5.1, 1.8])\n",
    "\n",
    "with torch.no_grad():\n",
    "    print(model(newer_iris))"
   ]
  },
  {
   "cell_type": "code",
   "execution_count": 248,
   "metadata": {},
   "outputs": [],
   "source": [
    "# Save the NN Model\n",
    "torch.save(model.state_dict(), 'Iris_Pytorch.pt')"
   ]
  },
  {
   "cell_type": "code",
   "execution_count": 249,
   "metadata": {},
   "outputs": [
    {
     "data": {
      "text/plain": [
       "<All keys matched successfully>"
      ]
     },
     "execution_count": 249,
     "metadata": {},
     "output_type": "execute_result"
    }
   ],
   "source": [
    "# Load the Model\n",
    "new_model = Model()\n",
    "new_model.load_state_dict(torch.load('Iris_Pytorch.pt', weights_only=True))\n"
   ]
  },
  {
   "cell_type": "code",
   "execution_count": 250,
   "metadata": {},
   "outputs": [
    {
     "data": {
      "text/plain": [
       "Model(\n",
       "  (fc1): Linear(in_features=4, out_features=4, bias=True)\n",
       "  (out): Linear(in_features=4, out_features=3, bias=True)\n",
       ")"
      ]
     },
     "execution_count": 250,
     "metadata": {},
     "output_type": "execute_result"
    }
   ],
   "source": [
    "# Make sure it loaded correctly\n",
    "new_model.eval()"
   ]
  }
 ],
 "metadata": {
  "kernelspec": {
   "display_name": "Python 3",
   "language": "python",
   "name": "python3"
  },
  "language_info": {
   "codemirror_mode": {
    "name": "ipython",
    "version": 3
   },
   "file_extension": ".py",
   "mimetype": "text/x-python",
   "name": "python",
   "nbconvert_exporter": "python",
   "pygments_lexer": "ipython3",
   "version": "3.10.12"
  }
 },
 "nbformat": 4,
 "nbformat_minor": 2
}
