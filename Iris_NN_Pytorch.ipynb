{
 "cells": [
  {
   "cell_type": "code",
   "execution_count": 344,
   "metadata": {},
   "outputs": [],
   "source": [
    "import torch\n",
    "import torch.nn as nn\n",
    "import torch.nn.functional as F\n",
    "from sklearn.model_selection import train_test_split\n",
    "\n",
    "from ucimlrepo import fetch_ucirepo \n",
    "import pandas as pd\n",
    "import numpy as np\n",
    "import matplotlib.pyplot as plt\n",
    "%matplotlib inline"
   ]
  },
  {
   "cell_type": "code",
   "execution_count": 345,
   "metadata": {},
   "outputs": [],
   "source": [
    "# fetch dataset \n",
    "iris = fetch_ucirepo(id=53) \n",
    "X = iris.data.features \n",
    "y = iris.data.targets "
   ]
  },
  {
   "cell_type": "code",
   "execution_count": 346,
   "metadata": {},
   "outputs": [
    {
     "name": "stderr",
     "output_type": "stream",
     "text": [
      "/tmp/ipykernel_312879/1692529871.py:2: SettingWithCopyWarning: \n",
      "A value is trying to be set on a copy of a slice from a DataFrame.\n",
      "Try using .loc[row_indexer,col_indexer] = value instead\n",
      "\n",
      "See the caveats in the documentation: https://pandas.pydata.org/pandas-docs/stable/user_guide/indexing.html#returning-a-view-versus-a-copy\n",
      "  y['class'] = y['class'].replace('Iris-setosa', 0)\n",
      "/tmp/ipykernel_312879/1692529871.py:3: SettingWithCopyWarning: \n",
      "A value is trying to be set on a copy of a slice from a DataFrame.\n",
      "Try using .loc[row_indexer,col_indexer] = value instead\n",
      "\n",
      "See the caveats in the documentation: https://pandas.pydata.org/pandas-docs/stable/user_guide/indexing.html#returning-a-view-versus-a-copy\n",
      "  y['class'] = y['class'].replace('Iris-versicolor', 1)\n",
      "/tmp/ipykernel_312879/1692529871.py:4: SettingWithCopyWarning: \n",
      "A value is trying to be set on a copy of a slice from a DataFrame.\n",
      "Try using .loc[row_indexer,col_indexer] = value instead\n",
      "\n",
      "See the caveats in the documentation: https://pandas.pydata.org/pandas-docs/stable/user_guide/indexing.html#returning-a-view-versus-a-copy\n",
      "  y['class'] = y['class'].replace('Iris-virginica', 2)\n"
     ]
    },
    {
     "data": {
      "text/html": [
       "<div>\n",
       "<style scoped>\n",
       "    .dataframe tbody tr th:only-of-type {\n",
       "        vertical-align: middle;\n",
       "    }\n",
       "\n",
       "    .dataframe tbody tr th {\n",
       "        vertical-align: top;\n",
       "    }\n",
       "\n",
       "    .dataframe thead th {\n",
       "        text-align: right;\n",
       "    }\n",
       "</style>\n",
       "<table border=\"1\" class=\"dataframe\">\n",
       "  <thead>\n",
       "    <tr style=\"text-align: right;\">\n",
       "      <th></th>\n",
       "      <th>class</th>\n",
       "    </tr>\n",
       "  </thead>\n",
       "  <tbody>\n",
       "    <tr>\n",
       "      <th>0</th>\n",
       "      <td>0</td>\n",
       "    </tr>\n",
       "    <tr>\n",
       "      <th>1</th>\n",
       "      <td>0</td>\n",
       "    </tr>\n",
       "    <tr>\n",
       "      <th>2</th>\n",
       "      <td>0</td>\n",
       "    </tr>\n",
       "    <tr>\n",
       "      <th>3</th>\n",
       "      <td>0</td>\n",
       "    </tr>\n",
       "    <tr>\n",
       "      <th>4</th>\n",
       "      <td>0</td>\n",
       "    </tr>\n",
       "    <tr>\n",
       "      <th>...</th>\n",
       "      <td>...</td>\n",
       "    </tr>\n",
       "    <tr>\n",
       "      <th>145</th>\n",
       "      <td>2</td>\n",
       "    </tr>\n",
       "    <tr>\n",
       "      <th>146</th>\n",
       "      <td>2</td>\n",
       "    </tr>\n",
       "    <tr>\n",
       "      <th>147</th>\n",
       "      <td>2</td>\n",
       "    </tr>\n",
       "    <tr>\n",
       "      <th>148</th>\n",
       "      <td>2</td>\n",
       "    </tr>\n",
       "    <tr>\n",
       "      <th>149</th>\n",
       "      <td>2</td>\n",
       "    </tr>\n",
       "  </tbody>\n",
       "</table>\n",
       "<p>150 rows × 1 columns</p>\n",
       "</div>"
      ],
      "text/plain": [
       "     class\n",
       "0        0\n",
       "1        0\n",
       "2        0\n",
       "3        0\n",
       "4        0\n",
       "..     ...\n",
       "145      2\n",
       "146      2\n",
       "147      2\n",
       "148      2\n",
       "149      2\n",
       "\n",
       "[150 rows x 1 columns]"
      ]
     },
     "execution_count": 346,
     "metadata": {},
     "output_type": "execute_result"
    }
   ],
   "source": [
    "# Change target feature from string to int\n",
    "y['class'] = y['class'].replace('Iris-setosa', 0)\n",
    "y['class'] = y['class'].replace('Iris-versicolor', 1)\n",
    "y['class'] = y['class'].replace('Iris-virginica', 2)\n",
    "y"
   ]
  },
  {
   "cell_type": "code",
   "execution_count": 348,
   "metadata": {},
   "outputs": [],
   "source": [
    "# Train test split\n",
    "\n",
    "X = np.array(X[['sepal length', 'sepal width', 'petal length', 'petal width']])\n",
    "y = np.array(y['class'])\n",
    "X_train, X_test, y_train, y_test = train_test_split(X, y, test_size=0.2, random_state=42)"
   ]
  },
  {
   "cell_type": "code",
   "execution_count": 349,
   "metadata": {},
   "outputs": [],
   "source": [
    "# Convert X features to float tensors\n",
    "X_train = torch.FloatTensor(X_train)\n",
    "X_test = torch.FloatTensor(X_test)"
   ]
  },
  {
   "cell_type": "code",
   "execution_count": 350,
   "metadata": {},
   "outputs": [],
   "source": [
    "# Create a Model class that inherits nn.Module\n",
    "\n",
    "# why is pytorch code in class based object oriented programming\n",
    "\n",
    "class Model(nn.Module):\n",
    "    # Input layer (4 features of the flower) --> \n",
    "    # Hidden layer1 (number of neurons) --> \n",
    "    # H2 (n) --> \n",
    "    # output (3 classes of iris flowers)\n",
    "    def __init__(self, in_features=4, h1=8, h2=9, out_features=3):\n",
    "        super().__init__() # instantiate the nn.module\n",
    "        self.fc1 = nn.Linear(in_features, h1)\n",
    "        self.fc2 = nn.Linear(h1, h2)\n",
    "        self.out = nn.Linear(h2, out_features)\n",
    "        \n",
    "    def forward(self, x):\n",
    "        x = F.relu(self.fc1(x))\n",
    "        x = F.relu(self.fc2(x))\n",
    "        x = self.out(x)\n",
    "        \n",
    "        return x"
   ]
  },
  {
   "cell_type": "code",
   "execution_count": 351,
   "metadata": {},
   "outputs": [],
   "source": [
    "# Pick a manual seed for randomization\n",
    "torch.manual_seed(41)\n",
    "# Create an instance of model\n",
    "model = Model()"
   ]
  },
  {
   "cell_type": "code",
   "execution_count": 352,
   "metadata": {},
   "outputs": [],
   "source": [
    "# Convert y labels to tensors long (for 64 bit integers)\n",
    "y_train = torch.LongTensor(y_train)\n",
    "y_test = torch.LongTensor(y_test)\n",
    "\n",
    "# Make the tensors 1D because the loss function expects 0D or 1D\n",
    "# y_train = torch.argmax(y_train, dim=1)\n",
    "# y_test = torch.argmax(y_test, dim=1)"
   ]
  },
  {
   "cell_type": "code",
   "execution_count": 353,
   "metadata": {},
   "outputs": [],
   "source": [
    "# Set the criterion of model to measure the error, how far off the predictions are from the data\n",
    "criterion = nn.CrossEntropyLoss()\n",
    "# Using SGD for full-batch gradient descent with entire dataset at once and defining the Learning rate\n",
    "optimizer = torch.optim.SGD(model.parameters(), lr=0.06)"
   ]
  },
  {
   "cell_type": "code",
   "execution_count": 354,
   "metadata": {},
   "outputs": [
    {
     "data": {
      "text/plain": [
       "<bound method Module.parameters of Model(\n",
       "  (fc1): Linear(in_features=4, out_features=8, bias=True)\n",
       "  (fc2): Linear(in_features=8, out_features=9, bias=True)\n",
       "  (out): Linear(in_features=9, out_features=3, bias=True)\n",
       ")>"
      ]
     },
     "execution_count": 354,
     "metadata": {},
     "output_type": "execute_result"
    }
   ],
   "source": [
    "model.parameters"
   ]
  },
  {
   "cell_type": "code",
   "execution_count": 355,
   "metadata": {},
   "outputs": [
    {
     "name": "stdout",
     "output_type": "stream",
     "text": [
      "Epoch: 0 and loss: 1.125285267829895\n",
      "Epoch: 10 and loss: 1.0745165348052979\n",
      "Epoch: 20 and loss: 1.0432014465332031\n",
      "Epoch: 30 and loss: 0.9988870620727539\n",
      "Epoch: 40 and loss: 0.9283655881881714\n",
      "Epoch: 50 and loss: 0.8290789127349854\n",
      "Epoch: 60 and loss: 0.7272171378135681\n",
      "Epoch: 70 and loss: 0.6337546110153198\n",
      "Epoch: 80 and loss: 0.5455329418182373\n",
      "Epoch: 90 and loss: 0.471472829580307\n"
     ]
    }
   ],
   "source": [
    "# Train our model\n",
    "\n",
    "epochs = 100\n",
    "losses = []\n",
    "for i in range(epochs):\n",
    "    # Forward pass\n",
    "    y_pred = model.forward(X_train) # Get predicted results\n",
    "    \n",
    "    # Measure the loss\n",
    "    loss = criterion(y_pred, y_train) \n",
    "    \n",
    "    # Keep track of the losses\n",
    "    losses.append(loss.detach().numpy()) # The loss output comes a tensor type. By using detach, it will be usable for plotting\n",
    "    \n",
    "    # Print every 10 epoch\n",
    "    if i % 10 == 0:\n",
    "        print(f'Epoch: {i} and loss: {loss}')\n",
    "        \n",
    "    # Backward pass\n",
    "    optimizer.zero_grad()\n",
    "    loss.backward()\n",
    "    optimizer.step()"
   ]
  },
  {
   "cell_type": "code",
   "execution_count": 356,
   "metadata": {},
   "outputs": [
    {
     "data": {
      "text/plain": [
       "Text(0.5, 0, 'epoch')"
      ]
     },
     "execution_count": 356,
     "metadata": {},
     "output_type": "execute_result"
    },
    {
     "data": {
      "image/png": "[encoded data removed]",
      "text/plain": [
       "<Figure size 640x480 with 1 Axes>"
      ]
     },
     "metadata": {},
     "output_type": "display_data"
    }
   ],
   "source": [
    "# Graph the results\n",
    "\n",
    "plt.plot(range(epochs), losses)\n",
    "plt.ylabel(\"loss/error\")\n",
    "plt.xlabel(\"epoch\")"
   ]
  },
  {
   "cell_type": "code",
   "execution_count": 357,
   "metadata": {},
   "outputs": [],
   "source": [
    "# Evaluate the model on test data set (validate model on test set)\n",
    "with torch.no_grad(): # Basically turn off back propogation\n",
    "    y_eval = model.forward(X_test) \n",
    "    loss = criterion(y_eval, y_test)"
   ]
  },
  {
   "cell_type": "code",
   "execution_count": 358,
   "metadata": {},
   "outputs": [
    {
     "data": {
      "text/plain": [
       "tensor(0.4022)"
      ]
     },
     "execution_count": 358,
     "metadata": {},
     "output_type": "execute_result"
    }
   ],
   "source": [
    "loss"
   ]
  },
  {
   "cell_type": "code",
   "execution_count": 359,
   "metadata": {},
   "outputs": [
    {
     "name": "stdout",
     "output_type": "stream",
     "text": [
      "1.) tensor([-1.4788,  1.3165,  1.2735]) \t 1 \t 1\n",
      "2.) tensor([ 2.2457, -0.2927, -0.7042]) \t 0 \t 0\n",
      "3.) tensor([-2.8993,  1.8251,  3.0807]) \t 2 \t 2\n",
      "4.) tensor([-1.5154,  1.3351,  1.3164]) \t 1 \t 1\n",
      "5.) tensor([-1.5705,  1.3921,  1.3280]) \t 1 \t 1\n",
      "6.) tensor([ 2.1250, -0.2459, -0.6921]) \t 0 \t 0\n",
      "7.) tensor([-0.6615,  1.0369,  0.6110]) \t 1 \t 1\n",
      "8.) tensor([-2.1309,  1.5833,  2.0491]) \t 2 \t 2\n",
      "9.) tensor([-1.6390,  1.3728,  1.4991]) \t 1 \t 2\n",
      "10.) tensor([-0.9031,  1.1262,  0.7679]) \t 1 \t 1\n",
      "11.) tensor([-1.9818,  1.5062,  1.9014]) \t 2 \t 2\n",
      "12.) tensor([ 2.0176, -0.2062, -0.6893]) \t 0 \t 0\n",
      "13.) tensor([ 2.3397, -0.3284, -0.7103]) \t 0 \t 0\n",
      "14.) tensor([ 2.0220, -0.2079, -0.6895]) \t 0 \t 0\n",
      "15.) tensor([ 2.1709, -0.2643, -0.6993]) \t 0 \t 0\n",
      "16.) tensor([-1.5736,  1.3767,  1.3390]) \t 1 \t 1\n",
      "17.) tensor([-2.4422,  1.6248,  2.5866]) \t 2 \t 2\n",
      "18.) tensor([-0.9781,  1.1392,  0.8008]) \t 1 \t 1\n",
      "19.) tensor([-1.4495,  1.2882,  1.2794]) \t 1 \t 1\n",
      "20.) tensor([-2.3938,  1.6050,  2.5362]) \t 2 \t 2\n",
      "21.) tensor([ 1.9029, -0.1615, -0.6769]) \t 0 \t 0\n",
      "22.) tensor([-1.8404,  1.4344,  1.7680]) \t 2 \t 2\n",
      "23.) tensor([ 1.9211, -0.1601, -0.6460]) \t 0 \t 0\n",
      "24.) tensor([-2.3618,  1.5910,  2.4991]) \t 2 \t 2\n",
      "25.) tensor([-2.4437,  1.7116,  2.3773]) \t 2 \t 2\n",
      "26.) tensor([-2.2098,  1.5876,  2.2015]) \t 2 \t 2\n",
      "27.) tensor([-2.3534,  1.5910,  2.4767]) \t 2 \t 2\n",
      "28.) tensor([-2.5148,  1.6668,  2.6431]) \t 2 \t 2\n",
      "29.) tensor([ 1.9480, -0.1791, -0.6819]) \t 0 \t 0\n",
      "30.) tensor([ 1.8945, -0.1558, -0.6667]) \t 0 \t 0\n",
      "We got 29 correct!\n"
     ]
    }
   ],
   "source": [
    "correct = 0\n",
    "with torch.no_grad():\n",
    "    for i, data in enumerate(X_test):\n",
    "        y_val = model.forward(data)\n",
    "        \n",
    "        # Will tell us what type of flower the network thinks it is\n",
    "        print(f'{i+1}.) {str(y_val)} \\t {y_test[i]} \\t {y_val.argmax().item()}')\n",
    "        \n",
    "        # Correct or not \n",
    "        if y_val.argmax().item() == y_test[i]:\n",
    "            correct += 1\n",
    "\n",
    "print(f'We got {correct} correct!')"
   ]
  }
 ],
 "metadata": {
  "kernelspec": {
   "display_name": "Python 3",
   "language": "python",
   "name": "python3"
  },
  "language_info": {
   "codemirror_mode": {
    "name": "ipython",
    "version": 3
   },
   "file_extension": ".py",
   "mimetype": "text/x-python",
   "name": "python",
   "nbconvert_exporter": "python",
   "pygments_lexer": "ipython3",
   "version": "3.10.12"
  }
 },
 "nbformat": 4,
 "nbformat_minor": 2
}
